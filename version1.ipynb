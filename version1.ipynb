{
 "cells": [
  {
   "cell_type": "code",
   "execution_count": 136,
   "metadata": {},
   "outputs": [],
   "source": [
    "import random\n",
    "import keras\n",
    "from keras.datasets import mnist\n",
    "from keras.models import Sequential\n",
    "from keras.layers import Conv2D,MaxPooling2D,Dense,Dropout,Flatten,LeakyReLU,BatchNormalization\n",
    "from keras.callbacks import EarlyStopping,ReduceLROnPlateau\n",
    "import numpy as np\n",
    "import matplotlib.pyplot as plt"
   ]
  },
  {
   "cell_type": "code",
   "execution_count": 137,
   "metadata": {},
   "outputs": [],
   "source": [
    "#ignore this cell\n",
    "from jupyterthemes import jtplot\n",
    "jtplot.style(context='talk', fscale=1.4, spines=False, gridlines='--')"
   ]
  },
  {
   "cell_type": "code",
   "execution_count": 138,
   "metadata": {},
   "outputs": [],
   "source": [
    "%matplotlib inline"
   ]
  },
  {
   "cell_type": "code",
   "execution_count": 139,
   "metadata": {},
   "outputs": [],
   "source": [
    "(x_train,y_train),(x_valid,y_valid) = mnist.load_data()"
   ]
  },
  {
   "cell_type": "code",
   "execution_count": 140,
   "metadata": {},
   "outputs": [
    {
     "name": "stdout",
     "output_type": "stream",
     "text": [
      "(60000, 28, 28)\n",
      "(10000, 28, 28)\n"
     ]
    }
   ],
   "source": [
    "#shape of image\n",
    "print(x_train.shape)\n",
    "print(x_valid.shape)"
   ]
  },
  {
   "cell_type": "code",
   "execution_count": 141,
   "metadata": {},
   "outputs": [],
   "source": [
    "x_train = x_train.reshape((x_train.shape[0],28,28,1))\n",
    "x_valid = x_valid.reshape((x_valid.shape[0],28,28,1))"
   ]
  },
  {
   "cell_type": "code",
   "execution_count": 142,
   "metadata": {},
   "outputs": [],
   "source": [
    "def preprocess(x):\n",
    "    x.astype('float32')\n",
    "    x = x/255   #max value of pixel is 255\n",
    "    \n",
    "    return x"
   ]
  },
  {
   "cell_type": "code",
   "execution_count": 143,
   "metadata": {},
   "outputs": [],
   "source": [
    "x_train = preprocess(x_train)\n",
    "x_valid = preprocess(x_valid)"
   ]
  },
  {
   "cell_type": "code",
   "execution_count": 144,
   "metadata": {},
   "outputs": [],
   "source": [
    "number_of_classes = len(np.unique(y_train))"
   ]
  },
  {
   "cell_type": "code",
   "execution_count": 145,
   "metadata": {},
   "outputs": [],
   "source": [
    "y_train = keras.utils.to_categorical(y_train,number_of_classes)\n",
    "y_valid = keras.utils.to_categorical(y_valid,number_of_classes)"
   ]
  },
  {
   "cell_type": "code",
   "execution_count": 158,
   "metadata": {},
   "outputs": [],
   "source": [
    "model = Sequential()\n",
    "model.add(Conv2D(filters=32,kernel_size=(3,3),input_shape=(28,28,1)))\n",
    "model.add(LeakyReLU())\n",
    "model.add(BatchNormalization())\n",
    "model.add(MaxPooling2D())\n",
    "model.add(Conv2D(filters=14,kernel_size=(3,3)))\n",
    "model.add(BatchNormalization())\n",
    "model.add(MaxPooling2D())\n",
    "model.add(Flatten())\n",
    "model.add(Dropout(rate=0.25))\n",
    "model.add(Dense(number_of_classes,activation='softmax'))\n",
    "\n",
    "model.compile(loss=keras.losses.categorical_crossentropy,\n",
    "              optimizer=keras.optimizers.Nadam(lr=0.001),\n",
    "              metrics=['accuracy'])"
   ]
  },
  {
   "cell_type": "code",
   "execution_count": 159,
   "metadata": {},
   "outputs": [],
   "source": [
    "early_stopping = EarlyStopping(monitor='val_acc',mode='max',min_delta=0.00005,baseline=0.98,patience=15,restore_best_weights=True,verbose=1)\n",
    "lr = ReduceLROnPlateau(monitor='val_acc',patience=5,factor=0.5,min_lr=1e-6,verbose=1)\n",
    "callbacks= [early_stopping,lr]"
   ]
  },
  {
   "cell_type": "code",
   "execution_count": 160,
   "metadata": {},
   "outputs": [
    {
     "name": "stdout",
     "output_type": "stream",
     "text": [
      "_________________________________________________________________\n",
      "Layer (type)                 Output Shape              Param #   \n",
      "=================================================================\n",
      "conv2d_71 (Conv2D)           (None, 26, 26, 32)        320       \n",
      "_________________________________________________________________\n",
      "leaky_re_lu_36 (LeakyReLU)   (None, 26, 26, 32)        0         \n",
      "_________________________________________________________________\n",
      "batch_normalization_71 (Batc (None, 26, 26, 32)        128       \n",
      "_________________________________________________________________\n",
      "max_pooling2d_71 (MaxPooling (None, 13, 13, 32)        0         \n",
      "_________________________________________________________________\n",
      "conv2d_72 (Conv2D)           (None, 11, 11, 14)        4046      \n",
      "_________________________________________________________________\n",
      "batch_normalization_72 (Batc (None, 11, 11, 14)        56        \n",
      "_________________________________________________________________\n",
      "max_pooling2d_72 (MaxPooling (None, 5, 5, 14)          0         \n",
      "_________________________________________________________________\n",
      "flatten_36 (Flatten)         (None, 350)               0         \n",
      "_________________________________________________________________\n",
      "dropout_36 (Dropout)         (None, 350)               0         \n",
      "_________________________________________________________________\n",
      "dense_36 (Dense)             (None, 10)                3510      \n",
      "=================================================================\n",
      "Total params: 8,060\n",
      "Trainable params: 7,968\n",
      "Non-trainable params: 92\n",
      "_________________________________________________________________\n"
     ]
    }
   ],
   "source": [
    "model.summary()"
   ]
  },
  {
   "cell_type": "code",
   "execution_count": 161,
   "metadata": {},
   "outputs": [
    {
     "name": "stdout",
     "output_type": "stream",
     "text": [
      "Train on 60000 samples, validate on 10000 samples\n",
      "Epoch 1/100\n",
      "60000/60000 [==============================] - 7s 119us/step - loss: 0.4179 - acc: 0.8697 - val_loss: 0.0993 - val_acc: 0.9695\n",
      "Epoch 2/100\n",
      "60000/60000 [==============================] - 5s 88us/step - loss: 0.1151 - acc: 0.9639 - val_loss: 0.0798 - val_acc: 0.9730\n",
      "Epoch 3/100\n",
      "60000/60000 [==============================] - 6s 97us/step - loss: 0.0878 - acc: 0.9728 - val_loss: 0.0569 - val_acc: 0.9811\n",
      "Epoch 4/100\n",
      "60000/60000 [==============================] - 5s 91us/step - loss: 0.0739 - acc: 0.9771 - val_loss: 0.0502 - val_acc: 0.9836\n",
      "Epoch 5/100\n",
      "60000/60000 [==============================] - 5s 91us/step - loss: 0.0659 - acc: 0.9794 - val_loss: 0.0531 - val_acc: 0.9832\n",
      "Epoch 6/100\n",
      "60000/60000 [==============================] - 5s 90us/step - loss: 0.0632 - acc: 0.9803 - val_loss: 0.0553 - val_acc: 0.9822\n",
      "Epoch 7/100\n",
      "60000/60000 [==============================] - 5s 90us/step - loss: 0.0571 - acc: 0.9819 - val_loss: 0.0416 - val_acc: 0.9860\n",
      "Epoch 8/100\n",
      "60000/60000 [==============================] - 6s 96us/step - loss: 0.0537 - acc: 0.9833 - val_loss: 0.0487 - val_acc: 0.9836\n",
      "Epoch 9/100\n",
      "60000/60000 [==============================] - 6s 96us/step - loss: 0.0527 - acc: 0.9832 - val_loss: 0.0404 - val_acc: 0.9864\n",
      "Epoch 10/100\n",
      "60000/60000 [==============================] - 6s 96us/step - loss: 0.0492 - acc: 0.9844 - val_loss: 0.0460 - val_acc: 0.9858\n",
      "Epoch 11/100\n",
      "60000/60000 [==============================] - 5s 91us/step - loss: 0.0507 - acc: 0.9841 - val_loss: 0.0402 - val_acc: 0.9877\n",
      "Epoch 12/100\n",
      "60000/60000 [==============================] - 6s 93us/step - loss: 0.0471 - acc: 0.9851 - val_loss: 0.0367 - val_acc: 0.9880\n",
      "Epoch 13/100\n",
      "60000/60000 [==============================] - 6s 95us/step - loss: 0.0454 - acc: 0.9854 - val_loss: 0.0361 - val_acc: 0.9887\n",
      "Epoch 14/100\n",
      "60000/60000 [==============================] - 6s 92us/step - loss: 0.0449 - acc: 0.9858 - val_loss: 0.0358 - val_acc: 0.9881\n",
      "Epoch 15/100\n",
      "60000/60000 [==============================] - 6s 95us/step - loss: 0.0435 - acc: 0.9863 - val_loss: 0.0368 - val_acc: 0.9888\n",
      "Epoch 16/100\n",
      "60000/60000 [==============================] - 6s 94us/step - loss: 0.0428 - acc: 0.9864 - val_loss: 0.0360 - val_acc: 0.9886\n",
      "Epoch 17/100\n",
      "60000/60000 [==============================] - 5s 91us/step - loss: 0.0426 - acc: 0.9866 - val_loss: 0.0402 - val_acc: 0.9879\n",
      "Epoch 18/100\n",
      "60000/60000 [==============================] - 5s 91us/step - loss: 0.0416 - acc: 0.9862 - val_loss: 0.0397 - val_acc: 0.9879\n",
      "\n",
      "Epoch 00018: ReduceLROnPlateau reducing learning rate to 0.0005000000237487257.\n",
      "Epoch 19/100\n",
      "60000/60000 [==============================] - 5s 90us/step - loss: 0.0357 - acc: 0.9883 - val_loss: 0.0341 - val_acc: 0.9888\n",
      "Epoch 20/100\n",
      "60000/60000 [==============================] - 6s 98us/step - loss: 0.0344 - acc: 0.9890 - val_loss: 0.0332 - val_acc: 0.9893\n",
      "Epoch 21/100\n",
      "60000/60000 [==============================] - 6s 93us/step - loss: 0.0350 - acc: 0.9886 - val_loss: 0.0328 - val_acc: 0.9890\n",
      "Epoch 22/100\n",
      "60000/60000 [==============================] - 6s 94us/step - loss: 0.0345 - acc: 0.9894 - val_loss: 0.0342 - val_acc: 0.9887\n",
      "Epoch 23/100\n",
      "60000/60000 [==============================] - 6s 95us/step - loss: 0.0333 - acc: 0.9891 - val_loss: 0.0361 - val_acc: 0.9885\n",
      "Epoch 24/100\n",
      "60000/60000 [==============================] - 6s 93us/step - loss: 0.0342 - acc: 0.9886 - val_loss: 0.0319 - val_acc: 0.9893\n",
      "Epoch 25/100\n",
      "60000/60000 [==============================] - 6s 94us/step - loss: 0.0323 - acc: 0.9894 - val_loss: 0.0328 - val_acc: 0.9893\n",
      "\n",
      "Epoch 00025: ReduceLROnPlateau reducing learning rate to 0.0002500000118743628.\n",
      "Epoch 26/100\n",
      "60000/60000 [==============================] - 5s 91us/step - loss: 0.0310 - acc: 0.9898 - val_loss: 0.0317 - val_acc: 0.9901\n",
      "Epoch 27/100\n",
      "60000/60000 [==============================] - 5s 92us/step - loss: 0.0293 - acc: 0.9906 - val_loss: 0.0308 - val_acc: 0.9895\n",
      "Epoch 28/100\n",
      "60000/60000 [==============================] - 5s 91us/step - loss: 0.0292 - acc: 0.9904 - val_loss: 0.0326 - val_acc: 0.9900\n",
      "Epoch 29/100\n",
      "60000/60000 [==============================] - 6s 92us/step - loss: 0.0287 - acc: 0.9907 - val_loss: 0.0317 - val_acc: 0.9900\n",
      "Epoch 30/100\n",
      "60000/60000 [==============================] - 6s 92us/step - loss: 0.0292 - acc: 0.9905 - val_loss: 0.0303 - val_acc: 0.9895\n",
      "Epoch 31/100\n",
      "60000/60000 [==============================] - 5s 90us/step - loss: 0.0288 - acc: 0.9906 - val_loss: 0.0324 - val_acc: 0.9900\n",
      "\n",
      "Epoch 00031: ReduceLROnPlateau reducing learning rate to 0.0001250000059371814.\n",
      "Epoch 32/100\n",
      "60000/60000 [==============================] - 5s 91us/step - loss: 0.0282 - acc: 0.9910 - val_loss: 0.0317 - val_acc: 0.9899\n",
      "Epoch 33/100\n",
      "60000/60000 [==============================] - 6s 94us/step - loss: 0.0283 - acc: 0.9908 - val_loss: 0.0306 - val_acc: 0.9900\n",
      "Epoch 34/100\n",
      "60000/60000 [==============================] - 5s 91us/step - loss: 0.0274 - acc: 0.9911 - val_loss: 0.0307 - val_acc: 0.9905\n",
      "Epoch 35/100\n",
      "60000/60000 [==============================] - 5s 91us/step - loss: 0.0266 - acc: 0.9917 - val_loss: 0.0303 - val_acc: 0.9902\n",
      "Epoch 36/100\n",
      "60000/60000 [==============================] - 5s 90us/step - loss: 0.0273 - acc: 0.9910 - val_loss: 0.0310 - val_acc: 0.9905\n",
      "Epoch 37/100\n",
      "60000/60000 [==============================] - 6s 92us/step - loss: 0.0273 - acc: 0.9911 - val_loss: 0.0308 - val_acc: 0.9903\n",
      "Epoch 38/100\n",
      "60000/60000 [==============================] - 5s 91us/step - loss: 0.0258 - acc: 0.9916 - val_loss: 0.0293 - val_acc: 0.9906\n",
      "Epoch 39/100\n",
      "60000/60000 [==============================] - 5s 92us/step - loss: 0.0275 - acc: 0.9912 - val_loss: 0.0306 - val_acc: 0.9907\n",
      "Epoch 40/100\n",
      "60000/60000 [==============================] - 5s 91us/step - loss: 0.0266 - acc: 0.9912 - val_loss: 0.0306 - val_acc: 0.9904\n",
      "Epoch 41/100\n",
      "60000/60000 [==============================] - 6s 92us/step - loss: 0.0260 - acc: 0.9915 - val_loss: 0.0299 - val_acc: 0.9909\n",
      "Epoch 42/100\n",
      "60000/60000 [==============================] - 6s 96us/step - loss: 0.0256 - acc: 0.9915 - val_loss: 0.0304 - val_acc: 0.9904\n",
      "Epoch 43/100\n",
      "60000/60000 [==============================] - 6s 96us/step - loss: 0.0262 - acc: 0.9911 - val_loss: 0.0305 - val_acc: 0.9906\n",
      "Epoch 44/100\n",
      "60000/60000 [==============================] - 6s 95us/step - loss: 0.0258 - acc: 0.9913 - val_loss: 0.0306 - val_acc: 0.9904\n",
      "Epoch 45/100\n",
      "60000/60000 [==============================] - 6s 92us/step - loss: 0.0259 - acc: 0.9917 - val_loss: 0.0317 - val_acc: 0.9898\n",
      "Epoch 46/100\n",
      "60000/60000 [==============================] - 6s 95us/step - loss: 0.0262 - acc: 0.9914 - val_loss: 0.0313 - val_acc: 0.9897\n",
      "\n",
      "Epoch 00046: ReduceLROnPlateau reducing learning rate to 6.25000029685907e-05.\n",
      "Epoch 47/100\n",
      "60000/60000 [==============================] - 6s 94us/step - loss: 0.0262 - acc: 0.9911 - val_loss: 0.0302 - val_acc: 0.9910\n",
      "Epoch 48/100\n",
      "60000/60000 [==============================] - 6s 92us/step - loss: 0.0248 - acc: 0.9919 - val_loss: 0.0295 - val_acc: 0.9912\n",
      "Epoch 49/100\n",
      "60000/60000 [==============================] - 6s 93us/step - loss: 0.0249 - acc: 0.9917 - val_loss: 0.0298 - val_acc: 0.9911\n",
      "Epoch 50/100\n",
      "60000/60000 [==============================] - 6s 92us/step - loss: 0.0246 - acc: 0.9917 - val_loss: 0.0305 - val_acc: 0.9909\n",
      "Epoch 51/100\n",
      "60000/60000 [==============================] - 6s 96us/step - loss: 0.0246 - acc: 0.9920 - val_loss: 0.0305 - val_acc: 0.9911\n",
      "Epoch 52/100\n",
      "60000/60000 [==============================] - 5s 90us/step - loss: 0.0259 - acc: 0.9915 - val_loss: 0.0305 - val_acc: 0.9907\n",
      "Epoch 53/100\n",
      "60000/60000 [==============================] - 6s 94us/step - loss: 0.0252 - acc: 0.9915 - val_loss: 0.0301 - val_acc: 0.9909\n",
      "\n",
      "Epoch 00053: ReduceLROnPlateau reducing learning rate to 3.125000148429535e-05.\n",
      "Epoch 54/100\n",
      "60000/60000 [==============================] - 6s 94us/step - loss: 0.0241 - acc: 0.9920 - val_loss: 0.0306 - val_acc: 0.9904\n",
      "Epoch 55/100\n",
      "60000/60000 [==============================] - 6s 97us/step - loss: 0.0251 - acc: 0.9916 - val_loss: 0.0304 - val_acc: 0.9905\n",
      "Epoch 56/100\n",
      "60000/60000 [==============================] - 5s 90us/step - loss: 0.0245 - acc: 0.9921 - val_loss: 0.0301 - val_acc: 0.9909\n"
     ]
    },
    {
     "name": "stdout",
     "output_type": "stream",
     "text": [
      "Epoch 57/100\n",
      "60000/60000 [==============================] - 6s 92us/step - loss: 0.0242 - acc: 0.9919 - val_loss: 0.0304 - val_acc: 0.9908\n",
      "Epoch 58/100\n",
      "60000/60000 [==============================] - 6s 95us/step - loss: 0.0250 - acc: 0.9915 - val_loss: 0.0303 - val_acc: 0.9909\n",
      "\n",
      "Epoch 00058: ReduceLROnPlateau reducing learning rate to 1.5625000742147677e-05.\n",
      "Epoch 59/100\n",
      "60000/60000 [==============================] - 6s 96us/step - loss: 0.0240 - acc: 0.9921 - val_loss: 0.0299 - val_acc: 0.9909\n",
      "Epoch 60/100\n",
      "60000/60000 [==============================] - 6s 95us/step - loss: 0.0245 - acc: 0.9918 - val_loss: 0.0302 - val_acc: 0.9909\n",
      "Epoch 61/100\n",
      "60000/60000 [==============================] - 6s 97us/step - loss: 0.0242 - acc: 0.9921 - val_loss: 0.0304 - val_acc: 0.9910\n",
      "Epoch 62/100\n",
      "60000/60000 [==============================] - 6s 95us/step - loss: 0.0242 - acc: 0.9922 - val_loss: 0.0302 - val_acc: 0.9908\n",
      "Epoch 63/100\n",
      "60000/60000 [==============================] - 6s 94us/step - loss: 0.0252 - acc: 0.9916 - val_loss: 0.0300 - val_acc: 0.9910\n",
      "Restoring model weights from the end of the best epoch\n",
      "\n",
      "Epoch 00063: ReduceLROnPlateau reducing learning rate to 7.812500371073838e-06.\n",
      "Epoch 00063: early stopping\n"
     ]
    }
   ],
   "source": [
    "final = model.fit(x_train, y_train,batch_size=128,epochs=100,verbose=1,validation_data=(x_valid, y_valid),callbacks=callbacks)"
   ]
  },
  {
   "cell_type": "code",
   "execution_count": 128,
   "metadata": {},
   "outputs": [
    {
     "data": {
      "image/png": "[encoded data removed]",
      "text/plain": [
       "<Figure size 748.8x655.2 with 1 Axes>"
      ]
     },
     "metadata": {},
     "output_type": "display_data"
    }
   ],
   "source": [
    "train_loss = final.history['loss']\n",
    "val_loss = final.history['val_loss']\n",
    "\n",
    "train_acc = final.history['acc']\n",
    "val_acc = final.history['val_acc']\n",
    "\n",
    "plt.plot(train_acc)\n",
    "plt.plot(val_acc)\n",
    "plt.title('Model Accuracy')\n",
    "plt.xlabel('Epoch')\n",
    "plt.ylabel('Accuracy')\n",
    "plt.legend(['Train', 'Test'], loc='upper left')\n",
    "plt.show()"
   ]
  },
  {
   "cell_type": "code",
   "execution_count": null,
   "metadata": {},
   "outputs": [],
   "source": []
  }
 ],
 "metadata": {
  "kernelspec": {
   "display_name": "Python 3",
   "language": "python",
   "name": "python3"
  },
  "language_info": {
   "codemirror_mode": {
    "name": "ipython",
    "version": 3
   },
   "file_extension": ".py",
   "mimetype": "text/x-python",
   "name": "python",
   "nbconvert_exporter": "python",
   "pygments_lexer": "ipython3",
   "version": "3.6.7"
  }
 },
 "nbformat": 4,
 "nbformat_minor": 2
}
